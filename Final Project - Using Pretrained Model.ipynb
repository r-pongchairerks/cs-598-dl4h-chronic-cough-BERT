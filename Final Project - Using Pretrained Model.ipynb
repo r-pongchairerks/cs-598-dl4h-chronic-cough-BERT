{
 "cells": [
  {
   "cell_type": "code",
   "execution_count": 1,
   "metadata": {},
   "outputs": [],
   "source": [
    "import numpy as np\n",
    "import pandas as pd"
   ]
  },
  {
   "cell_type": "code",
   "execution_count": 2,
   "metadata": {
    "_cell_guid": "b1076dfc-b9ad-4769-8c92-a6c4dae69d19",
    "_uuid": "8f2839f25d086af736a60e9eeb907d3b93b6e0e5"
   },
   "outputs": [],
   "source": [
    "data_path = \"data/Sample/train_df.csv\"\n",
    "test_data_path = \"data/Sample/test_df.csv\"\n",
    "\n",
    "embeding_path = \"data/BioWordVec_PubMed_MIMICIII_d200.vec.bin\"\n",
    "emb_dim = 200\n",
    "sample_size = 3000\n",
    "perc_train = 0.9"
   ]
  },
  {
   "cell_type": "markdown",
   "metadata": {},
   "source": [
    "## process data"
   ]
  },
  {
   "cell_type": "code",
   "execution_count": 3,
   "metadata": {},
   "outputs": [],
   "source": [
    "df = pd.read_csv(data_path, encoding = \"latin\", header = None)\n",
    "df.drop(labels = [0], axis = \"columns\", inplace = True)\n",
    "df.columns = [\"clinical_note\",\"Label\"]\n",
    "df = df.sample(n = sample_size, random_state = 31,replace=False)"
   ]
  },
  {
   "cell_type": "code",
   "execution_count": 4,
   "metadata": {},
   "outputs": [],
   "source": [
    "from unidecode import unidecode\n",
    "import re\n",
    "import nltk\n",
    "import string\n",
    "from nltk.corpus import stopwords\n",
    "from nltk.tokenize import word_tokenize\n",
    "\n",
    "remove = [\"xxxx xxxx\",\"xxxx\"]\n",
    "def preprocess(text):\n",
    "    text = text.lower()\n",
    "    text = re.sub(\"@\\S+|http\\S+|#\\S+\", \"\", text)\n",
    "    text = unidecode(text)\n",
    "    # Tokenize\n",
    "    tokenized_text = word_tokenize(text)\n",
    "    cleaned_tokens = [t for t in tokenized_text if t.isalnum() and t not in remove]\n",
    "    cleaned_string = \" \".join(cleaned_tokens)\n",
    "    return cleaned_string\n",
    "\n",
    "df[\"clinical_note\"] = df[\"clinical_note\"].apply(lambda x : preprocess(x))"
   ]
  },
  {
   "cell_type": "markdown",
   "metadata": {},
   "source": [
    "## determine the length of the cllinical note:"
   ]
  },
  {
   "cell_type": "code",
   "execution_count": 5,
   "metadata": {},
   "outputs": [],
   "source": [
    "lengths = df[\"clinical_note\"].apply(lambda x : len(x.split(\" \")))\n",
    "max_length = int(lengths.mean()+3*lengths.std())"
   ]
  },
  {
   "cell_type": "markdown",
   "metadata": {},
   "source": [
    "## split dataset"
   ]
  },
  {
   "cell_type": "code",
   "execution_count": 6,
   "metadata": {},
   "outputs": [],
   "source": [
    "from sklearn.model_selection import train_test_split as tts\n",
    "df_train, df_val = tts(df, train_size = perc_train, shuffle = True, random_state = 42)"
   ]
  },
  {
   "cell_type": "code",
   "execution_count": 7,
   "metadata": {},
   "outputs": [
    {
     "name": "stderr",
     "output_type": "stream",
     "text": [
      "Using Theano backend.\n"
     ]
    }
   ],
   "source": [
    "from keras.preprocessing.text import Tokenizer\n",
    "token = Tokenizer()\n",
    "token.fit_on_texts(df_train[\"clinical_note\"])\n",
    "word_index = token.word_index\n",
    "num_vocab = len(token.word_index) + 1 "
   ]
  },
  {
   "cell_type": "code",
   "execution_count": 8,
   "metadata": {},
   "outputs": [],
   "source": [
    "from keras.preprocessing.sequence import pad_sequences\n",
    "x_train = pad_sequences(token.texts_to_sequences(df_train[\"clinical_note\"]), maxlen = max_length, padding = \"post\")\n",
    "x_val   = pad_sequences(token.texts_to_sequences(df_val[\"clinical_note\"]), maxlen = max_length, padding = \"post\")\n",
    "y_train = df_train[\"Label\"].to_numpy(dtype = float).reshape(-1, 1)\n",
    "y_val   = df_val[\"Label\"].to_numpy(dtype = float).reshape(-1, 1)"
   ]
  },
  {
   "cell_type": "markdown",
   "metadata": {},
   "source": [
    "## map embeddings"
   ]
  },
  {
   "cell_type": "code",
   "execution_count": 9,
   "metadata": {},
   "outputs": [],
   "source": [
    "import torch\n",
    "from gensim.models import KeyedVectors"
   ]
  },
  {
   "cell_type": "code",
   "execution_count": 10,
   "metadata": {},
   "outputs": [],
   "source": [
    "device = \"cpu\"\n",
    "word2vec = KeyedVectors.load_word2vec_format(embeding_path, binary=True)\n",
    "embedding_matrix = np.zeros((num_vocab, emb_dim))\n",
    "for word, i in word_index.items():\n",
    "    try:\n",
    "        embedding_vector=word2vec[word]\n",
    "        embedding_matrix[i] = embedding_vector\n",
    "    except:\n",
    "        embedding_matrix[i] = np.random.normal(0, 1, (emb_dim,))\n",
    "\n",
    "embeddings_tensor = torch.FloatTensor(embedding_matrix).to(device)"
   ]
  },
  {
   "cell_type": "code",
   "execution_count": 11,
   "metadata": {},
   "outputs": [],
   "source": [
    "from torch.utils.data import DataLoader, TensorDataset\n",
    "\n",
    "data_train = TensorDataset(torch.from_numpy(x_train).long(), torch.from_numpy(y_train).long())\n",
    "data_val = TensorDataset(torch.from_numpy(x_val).long(), torch.from_numpy(y_val).long())\n",
    "loader_train = DataLoader(data_train, shuffle = False, batch_size = 128)\n",
    "loader_val = DataLoader(data_val, shuffle = False, batch_size = 128)"
   ]
  },
  {
   "cell_type": "markdown",
   "metadata": {},
   "source": [
    "### model setup"
   ]
  },
  {
   "cell_type": "code",
   "execution_count": 12,
   "metadata": {},
   "outputs": [],
   "source": [
    "import torch.nn.functional as F\n",
    "\n",
    "def calc_accuracy(yhat, y):\n",
    "    preds = torch.sigmoid(yhat)\n",
    "    rounded_preds = torch.round(preds)\n",
    "    correct = (rounded_preds == y).float()\n",
    "    accuracy = correct.sum() / len(correct)\n",
    "    return accuracy"
   ]
  },
  {
   "cell_type": "code",
   "execution_count": 13,
   "metadata": {},
   "outputs": [],
   "source": [
    "import time\n",
    "\n",
    "def epoch_time(start_time, end_time):\n",
    "    elapsed_time = end_time - start_time\n",
    "    elapsed_mins = int(elapsed_time / 60)\n",
    "    elapsed_secs = int(elapsed_time - (elapsed_mins * 60))\n",
    "    return elapsed_mins, elapsed_secs"
   ]
  },
  {
   "cell_type": "code",
   "execution_count": 20,
   "metadata": {},
   "outputs": [],
   "source": [
    "def train(model, iterator, optimizer, criterion):\n",
    "    epoch_loss = 0\n",
    "    epoch_acc = 0\n",
    "    \n",
    "    model.train() \n",
    "    \n",
    "    for text, labels in iterator:\n",
    "        \n",
    "        optimizer.zero_grad() \n",
    "        \n",
    "        yhat = model(text)\n",
    "        labels = labels.type_as(yhat)\n",
    "        \n",
    "        loss = criterion(yhat, labels)\n",
    "        loss.backward()\n",
    "        optimizer.step()\n",
    "        \n",
    "        epoch_loss += loss.item()\n",
    "        \n",
    "        accucracy = calc_accuracy(yhat, labels)\n",
    "        epoch_acc += accucracy.item()\n",
    "        \n",
    "    return epoch_loss/len(iterator), epoch_acc/len(iterator)"
   ]
  },
  {
   "cell_type": "code",
   "execution_count": 21,
   "metadata": {},
   "outputs": [],
   "source": [
    "from sklearn.metrics import precision_recall_fscore_support\n",
    "\n",
    "def evalu(model, iterator, criterion):\n",
    "    epoch_loss = 0\n",
    "    epoch_acc = 0\n",
    "    \n",
    "    model.eval()\n",
    "    \n",
    "    with torch.no_grad(): \n",
    "    \n",
    "        for text, labels in iterator:\n",
    "            \n",
    "            yhat = model(text)\n",
    "            labels = labels.type_as(yhat)\n",
    "            \n",
    "            loss = criterion(yhat, labels)\n",
    "            epoch_loss += loss.item()\n",
    "            \n",
    "            accucracy = calc_accuracy(yhat, labels)\n",
    "            epoch_acc += accucracy.item()\n",
    "                    \n",
    "    return epoch_loss/len(iterator), epoch_acc/len(iterator)"
   ]
  },
  {
   "cell_type": "code",
   "execution_count": 22,
   "metadata": {},
   "outputs": [],
   "source": [
    "import torch.nn as nn\n",
    "\n",
    "class Model(nn.Module):\n",
    "    \n",
    "    def __init__(self, vocab_size, embedding_dim, hidden_dim, output_dim, dropout = 0.3):\n",
    "        \n",
    "        super().__init__()\n",
    "        # Add embedding\n",
    "        self.embedding = nn.Embedding.from_pretrained(embeddings_tensor, freeze = True)\n",
    "        # BiLSTM Model\n",
    "        self.lstm = nn.LSTM(\n",
    "            embedding_dim, \n",
    "            hidden_dim, \n",
    "            num_layers = 1,\n",
    "            bidirectional = True, \n",
    "            batch_first = True\n",
    "        )\n",
    "        # add multi head attention:\n",
    "        self.mha = nn.MultiheadAttention(2*hidden_dim, num_heads = 8)\n",
    "        self.flatten = nn.Flatten() \n",
    "        self.fc1 = nn.Linear(max_length*2*hidden_dim, 512) \n",
    "        self.dropout = nn.Dropout(dropout)\n",
    "        self.fc2 = nn.Linear(512, 128)\n",
    "        self.dropout = nn.Dropout(dropout)\n",
    "        self.fc3 = nn.Linear(128, 32)\n",
    "        self.fc4 = nn.Linear(32, output_dim)\n",
    "        \n",
    "    def forward(self, text):\n",
    "        embedded = self.embedding(text)  \n",
    "        # LSTM output\n",
    "        lstm_output, (ht, cell) = self.lstm(embedded) \n",
    "        # try if attention layer makes sense:\n",
    "#         attn_output, attn_output_weights = self.mha(lstm_output, lstm_output, lstm_output)\n",
    "        attn_output = lstm_output\n",
    "        x = self.flatten(attn_output)\n",
    "        # Classifer:\n",
    "        x = F.relu(self.fc1(x))\n",
    "        x = self.dropout(x)\n",
    "        x = F.relu(self.fc2(x))\n",
    "        x = F.relu(self.fc3(x))\n",
    "        output = self.fc4(x)\n",
    "        \n",
    "        return output "
   ]
  },
  {
   "cell_type": "code",
   "execution_count": 23,
   "metadata": {},
   "outputs": [
    {
     "name": "stdout",
     "output_type": "stream",
     "text": [
      "Model(\n",
      "  (embedding): Embedding(1911, 200)\n",
      "  (lstm): LSTM(200, 64, batch_first=True, bidirectional=True)\n",
      "  (mha): MultiheadAttention(\n",
      "    (out_proj): NonDynamicallyQuantizableLinear(in_features=128, out_features=128, bias=True)\n",
      "  )\n",
      "  (flatten): Flatten(start_dim=1, end_dim=-1)\n",
      "  (fc1): Linear(in_features=12288, out_features=512, bias=True)\n",
      "  (dropout): Dropout(p=0.3, inplace=False)\n",
      "  (fc2): Linear(in_features=512, out_features=128, bias=True)\n",
      "  (fc3): Linear(in_features=128, out_features=32, bias=True)\n",
      "  (fc4): Linear(in_features=32, out_features=1, bias=True)\n",
      ")\n"
     ]
    }
   ],
   "source": [
    "n_epochs = 5\n",
    "output_dim = 1\n",
    "hidden_dim = 64\n",
    "model = Model(num_vocab, emb_dim, hidden_dim, output_dim)\n",
    "print(model)"
   ]
  },
  {
   "cell_type": "code",
   "execution_count": 24,
   "metadata": {},
   "outputs": [],
   "source": [
    "import torch.optim as optim\n",
    "optimizer = optim.Adam(model.parameters(), lr=1e-3)\n",
    "criterion = nn.BCEWithLogitsLoss()"
   ]
  },
  {
   "cell_type": "code",
   "execution_count": 25,
   "metadata": {},
   "outputs": [
    {
     "name": "stdout",
     "output_type": "stream",
     "text": [
      "Epoch: 0 | Elapsed Time: 0m 11s\n",
      "Epoch: 1 | Elapsed Time: 0m 10s\n",
      "Epoch: 2 | Elapsed Time: 0m 6s\n",
      "Epoch: 3 | Elapsed Time: 0m 5s\n",
      "Epoch: 4 | Elapsed Time: 0m 5s\n"
     ]
    }
   ],
   "source": [
    "best_loss = float(\"inf\")\n",
    "\n",
    "output = {\"train_loss\" : [],\"valid_loss\" : [],  \"train_acc\" : [], \"valid_acc\" : []}\n",
    "\n",
    "for epoch in range(n_epochs):\n",
    "\n",
    "    start_time = time.time()\n",
    "    \n",
    "    train_loss, train_acc = train(model, loader_train, optimizer, criterion)\n",
    "    valid_loss, valid_acc = evalu(model, loader_val, criterion)\n",
    "    \n",
    "    end_time = time.time()\n",
    "    \n",
    "    output[\"train_loss\"].append(train_loss)\n",
    "    output[\"valid_loss\"].append(valid_loss)\n",
    "    output[\"train_acc\"].append(train_acc)\n",
    "    output[\"valid_acc\"].append(valid_acc)\n",
    "\n",
    "    epoch_mins, epoch_secs = epoch_time(start_time, end_time)\n",
    "    \n",
    "    if valid_loss < best_loss:\n",
    "        best_loss = valid_loss\n",
    "        torch.save(model.state_dict(), f\"model_{epoch+1}.pt\")\n",
    "\n",
    "    # show elaspsed time\n",
    "    print(f\"Epoch: {epoch} | Elapsed Time: {epoch_mins}m {epoch_secs}s\")"
   ]
  },
  {
   "cell_type": "code",
   "execution_count": 26,
   "metadata": {},
   "outputs": [
    {
     "data": {
      "image/png": "[encoded data removed]",
      "text/plain": [
       "<Figure size 432x288 with 1 Axes>"
      ]
     },
     "metadata": {
      "needs_background": "light"
     },
     "output_type": "display_data"
    },
    {
     "data": {
      "image/png": "[encoded data removed]",
      "text/plain": [
       "<Figure size 432x288 with 1 Axes>"
      ]
     },
     "metadata": {
      "needs_background": "light"
     },
     "output_type": "display_data"
    }
   ],
   "source": [
    "from matplotlib import pyplot as plt\n",
    "\n",
    "t_acc = output[\"train_acc\"]\n",
    "t_loss = output[\"train_loss\"]\n",
    "v_acc = output[\"valid_acc\"]\n",
    "v_loss = output[\"valid_loss\"]\n",
    "\n",
    "epochs = range(1, n_epochs + 1)\n",
    "\n",
    "plt.plot(epochs, t_acc)\n",
    "plt.plot(epochs, v_acc)\n",
    "plt.title(\"Accuracy\")\n",
    "\n",
    "plt.figure()\n",
    "plt.plot(t_loss)\n",
    "plt.plot(v_loss)\n",
    "plt.title(\"Loss\")\n",
    "\n",
    "plt.show()"
   ]
  },
  {
   "cell_type": "code",
   "execution_count": 27,
   "metadata": {},
   "outputs": [
    {
     "data": {
      "text/html": [
       "<div>\n",
       "<style scoped>\n",
       "    .dataframe tbody tr th:only-of-type {\n",
       "        vertical-align: middle;\n",
       "    }\n",
       "\n",
       "    .dataframe tbody tr th {\n",
       "        vertical-align: top;\n",
       "    }\n",
       "\n",
       "    .dataframe thead th {\n",
       "        text-align: right;\n",
       "    }\n",
       "</style>\n",
       "<table border=\"1\" class=\"dataframe\">\n",
       "  <thead>\n",
       "    <tr style=\"text-align: right;\">\n",
       "      <th></th>\n",
       "      <th>train_loss</th>\n",
       "      <th>valid_loss</th>\n",
       "      <th>train_acc</th>\n",
       "      <th>valid_acc</th>\n",
       "    </tr>\n",
       "  </thead>\n",
       "  <tbody>\n",
       "    <tr>\n",
       "      <th>0</th>\n",
       "      <td>0.407006</td>\n",
       "      <td>0.312081</td>\n",
       "      <td>0.862926</td>\n",
       "      <td>0.858191</td>\n",
       "    </tr>\n",
       "    <tr>\n",
       "      <th>1</th>\n",
       "      <td>0.251278</td>\n",
       "      <td>0.177911</td>\n",
       "      <td>0.865057</td>\n",
       "      <td>0.912405</td>\n",
       "    </tr>\n",
       "    <tr>\n",
       "      <th>2</th>\n",
       "      <td>0.139332</td>\n",
       "      <td>0.221842</td>\n",
       "      <td>0.946023</td>\n",
       "      <td>0.933239</td>\n",
       "    </tr>\n",
       "    <tr>\n",
       "      <th>3</th>\n",
       "      <td>0.111851</td>\n",
       "      <td>0.264165</td>\n",
       "      <td>0.964844</td>\n",
       "      <td>0.881155</td>\n",
       "    </tr>\n",
       "    <tr>\n",
       "      <th>4</th>\n",
       "      <td>0.140766</td>\n",
       "      <td>0.261747</td>\n",
       "      <td>0.951705</td>\n",
       "      <td>0.933239</td>\n",
       "    </tr>\n",
       "  </tbody>\n",
       "</table>\n",
       "</div>"
      ],
      "text/plain": [
       "   train_loss  valid_loss  train_acc  valid_acc\n",
       "0    0.407006    0.312081   0.862926   0.858191\n",
       "1    0.251278    0.177911   0.865057   0.912405\n",
       "2    0.139332    0.221842   0.946023   0.933239\n",
       "3    0.111851    0.264165   0.964844   0.881155\n",
       "4    0.140766    0.261747   0.951705   0.933239"
      ]
     },
     "execution_count": 27,
     "metadata": {},
     "output_type": "execute_result"
    }
   ],
   "source": [
    "output = pd.DataFrame(output)\n",
    "output"
   ]
  },
  {
   "cell_type": "code",
   "execution_count": 28,
   "metadata": {},
   "outputs": [],
   "source": [
    "df_test = pd.read_csv(data_path, encoding = \"latin\", header = None)\n",
    "df_test.drop(labels = [0], axis = \"columns\", inplace = True)\n",
    "df_test.columns = [\"clinical_note\",\"Label\"]\n",
    "df_test = df_test.sample(n = 786, random_state = 31,replace=False)\n",
    "df_test[\"clinical_note\"] = df_test[\"clinical_note\"].apply(lambda x : preprocess(x))\n",
    "\n",
    "x_test = pad_sequences(token.texts_to_sequences(df_test[\"clinical_note\"]), maxlen = max_length, padding = \"post\")\n",
    "y_test   = df_test[\"Label\"].to_numpy(dtype = float).reshape(-1, 1)\n",
    "\n",
    "data_test = TensorDataset(torch.from_numpy(x_test).long(), torch.from_numpy(y_test).long())\n",
    "test_val = DataLoader(data_test, shuffle = False, batch_size = 128)\n",
    "valid_loss, valid_acc = evalu(model, test_val, criterion)"
   ]
  },
  {
   "cell_type": "code",
   "execution_count": 29,
   "metadata": {},
   "outputs": [
    {
     "data": {
      "text/plain": [
       "(0.2338803213621889, 0.9362599168504987)"
      ]
     },
     "execution_count": 29,
     "metadata": {},
     "output_type": "execute_result"
    }
   ],
   "source": [
    "valid_loss,valid_acc"
   ]
  },
  {
   "cell_type": "code",
   "execution_count": null,
   "metadata": {},
   "outputs": [],
   "source": []
  }
 ],
 "metadata": {
  "kernelspec": {
   "display_name": "Python 3 (ipykernel)",
   "language": "python",
   "name": "python3"
  },
  "language_info": {
   "codemirror_mode": {
    "name": "ipython",
    "version": 3
   },
   "file_extension": ".py",
   "mimetype": "text/x-python",
   "name": "python",
   "nbconvert_exporter": "python",
   "pygments_lexer": "ipython3",
   "version": "3.7.13"
  }
 },
 "nbformat": 4,
 "nbformat_minor": 4
}
